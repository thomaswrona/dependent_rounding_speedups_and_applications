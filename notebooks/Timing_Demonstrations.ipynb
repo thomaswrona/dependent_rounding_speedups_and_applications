{
 "cells": [
  {
   "cell_type": "markdown",
   "metadata": {},
   "source": [
    "# Timing Demonstrations\n",
    "\n",
    "We will look at a few timed results. C++ is faster (except in cases where both are fast), so more thorough displays are used for C++. I limited the sizes of matrices to a reasonable time to round (~ a couple seconds) on my computer. It is possible to hit the recursion limit in python, if so you can increase recursion limit using sys.setrecursionlimit(n)."
   ]
  },
  {
   "cell_type": "code",
   "execution_count": 2,
   "metadata": {},
   "outputs": [],
   "source": [
    "from dependent_rounding import round_matrix\n",
    "import numpy as np\n",
    "import matplotlib.pyplot as plt\n",
    "\n",
    "np.set_printoptions(precision=3)\n",
    "np.set_printoptions(suppress=True)\n",
    "\n",
    "def round_given_size(method, language, m_pow, n_pow):\n",
    "    start = np.abs(np.random.normal(0,0.5,(2**m_pow,2**n_pow)))\n",
    "    print(\"Time for \"+language+\" \"+method+\" rounding on \"+str(2**m_pow)+\" by \"+str(2**n_pow)+\" matrix:\")\n",
    "    return round_matrix(np.copy(start), method, 0, language, track_time=True)"
   ]
  },
  {
   "cell_type": "code",
   "execution_count": 16,
   "metadata": {},
   "outputs": [
    {
     "name": "stdout",
     "output_type": "stream",
     "text": [
      "Time for python standard rounding on 256 by 256 matrix:\n",
      "Total time (ms): 0.39768218994140625\n",
      "Time for python standard rounding on 256 by 1024 matrix:\n",
      "Total time (ms): 2.340555191040039\n",
      "Time for python standard rounding on 256 by 4096 matrix:\n",
      "Total time (ms): 7.191658020019531\n",
      "Time for python standard rounding on 1024 by 1024 matrix:\n",
      "Total time (ms): 3.6416053771972656\n",
      "Time for python standard rounding on 1024 by 4096 matrix:\n",
      "Total time (ms): 32.50312805175781\n",
      "Time for python standard rounding on 4096 by 4096 matrix:\n",
      "Total time (ms): 169.90399360656738\n"
     ]
    }
   ],
   "source": [
    "for i in range(8, 13, 2):\n",
    "    for j in range(i, 13, 2):\n",
    "        round_given_size('standard','python',i,j)"
   ]
  },
  {
   "cell_type": "code",
   "execution_count": 17,
   "metadata": {},
   "outputs": [
    {
     "name": "stdout",
     "output_type": "stream",
     "text": [
      "Time for cpp standard rounding on 256 by 256 matrix:\n",
      "Total time (ms): 0.4792213439941406\n",
      "Time for cpp standard rounding on 256 by 1024 matrix:\n",
      "Total time (ms): 0.9524822235107422\n",
      "Time for cpp standard rounding on 256 by 4096 matrix:\n",
      "Total time (ms): 3.675222396850586\n",
      "Time for cpp standard rounding on 1024 by 1024 matrix:\n",
      "Total time (ms): 3.2262802124023438\n",
      "Time for cpp standard rounding on 1024 by 4096 matrix:\n",
      "Total time (ms): 26.554584503173828\n",
      "Time for cpp standard rounding on 4096 by 4096 matrix:\n",
      "Total time (ms): 135.45489311218262\n"
     ]
    }
   ],
   "source": [
    "for i in range(8, 13, 2):\n",
    "    for j in range(i, 13, 2):\n",
    "        round_given_size('standard','cpp',i,j)"
   ]
  },
  {
   "cell_type": "code",
   "execution_count": 8,
   "metadata": {},
   "outputs": [
    {
     "name": "stdout",
     "output_type": "stream",
     "text": [
      "Time for python stochastic rounding on 64 by 64 matrix:\n",
      "Total time (ms): 1.5730857849121094\n",
      "Time for python stochastic rounding on 64 by 256 matrix:\n",
      "Total time (ms): 0.2760887145996094\n",
      "Time for python stochastic rounding on 64 by 1024 matrix:\n",
      "Total time (ms): 0.6999969482421875\n",
      "Time for python stochastic rounding on 64 by 4096 matrix:\n",
      "Total time (ms): 2.8388500213623047\n",
      "Time for python stochastic rounding on 256 by 256 matrix:\n",
      "Total time (ms): 0.45228004455566406\n",
      "Time for python stochastic rounding on 256 by 1024 matrix:\n",
      "Total time (ms): 1.7364025115966797\n",
      "Time for python stochastic rounding on 256 by 4096 matrix:\n",
      "Total time (ms): 10.24007797241211\n",
      "Time for python stochastic rounding on 1024 by 1024 matrix:\n",
      "Total time (ms): 9.256839752197266\n",
      "Time for python stochastic rounding on 1024 by 4096 matrix:\n",
      "Total time (ms): 48.95806312561035\n",
      "Time for python stochastic rounding on 4096 by 4096 matrix:\n",
      "Total time (ms): 195.21641731262207\n"
     ]
    }
   ],
   "source": [
    "for i in range(6, 13, 2):\n",
    "    for j in range(i, 13, 2):\n",
    "        round_given_size('stochastic','python',i,j)"
   ]
  },
  {
   "cell_type": "code",
   "execution_count": 9,
   "metadata": {},
   "outputs": [
    {
     "name": "stdout",
     "output_type": "stream",
     "text": [
      "Time for cpp stochastic rounding on 64 by 64 matrix:\n",
      "Total time (ms): 0.8287429809570312\n",
      "Time for cpp stochastic rounding on 64 by 256 matrix:\n",
      "Total time (ms): 0.14734268188476562\n",
      "Time for cpp stochastic rounding on 64 by 1024 matrix:\n",
      "Total time (ms): 0.3483295440673828\n",
      "Time for cpp stochastic rounding on 64 by 4096 matrix:\n",
      "Total time (ms): 1.9905567169189453\n",
      "Time for cpp stochastic rounding on 256 by 256 matrix:\n",
      "Total time (ms): 0.6539821624755859\n",
      "Time for cpp stochastic rounding on 256 by 1024 matrix:\n",
      "Total time (ms): 1.5931129455566406\n",
      "Time for cpp stochastic rounding on 256 by 4096 matrix:\n",
      "Total time (ms): 8.371591567993164\n",
      "Time for cpp stochastic rounding on 1024 by 1024 matrix:\n",
      "Total time (ms): 6.906986236572266\n",
      "Time for cpp stochastic rounding on 1024 by 4096 matrix:\n",
      "Total time (ms): 32.40227699279785\n",
      "Time for cpp stochastic rounding on 4096 by 4096 matrix:\n",
      "Total time (ms): 126.21164321899414\n"
     ]
    }
   ],
   "source": [
    "for i in range(6, 13, 2):\n",
    "    for j in range(i, 13, 2):\n",
    "        round_given_size('stochastic','cpp',i,j)"
   ]
  },
  {
   "cell_type": "code",
   "execution_count": 14,
   "metadata": {},
   "outputs": [
    {
     "name": "stdout",
     "output_type": "stream",
     "text": [
      "Time for python dependent rounding on 64 by 64 matrix:\n",
      "Total time (ms): 17.819643020629883\n",
      "Time for python dependent rounding on 64 by 256 matrix:\n",
      "Total time (ms): 64.87846374511719\n",
      "Time for python dependent rounding on 64 by 1024 matrix:\n",
      "Total time (ms): 269.1934108734131\n",
      "Time for python dependent rounding on 256 by 256 matrix:\n",
      "Total time (ms): 371.3116645812988\n",
      "Time for python dependent rounding on 256 by 1024 matrix:\n",
      "Total time (ms): 1436.7547035217285\n",
      "Time for python dependent rounding on 1024 by 1024 matrix:\n",
      "Total time (ms): 12228.298902511597\n"
     ]
    }
   ],
   "source": [
    "for i in range(6, 11, 2):\n",
    "    for j in range(i, 11, 2):\n",
    "        round_given_size('dependent','python',i,j)"
   ]
  },
  {
   "cell_type": "code",
   "execution_count": 15,
   "metadata": {},
   "outputs": [
    {
     "name": "stdout",
     "output_type": "stream",
     "text": [
      "Time for cpp dependent rounding on 64 by 64 matrix:\n",
      "Total time (ms): 1.9161701202392578\n",
      "Time for cpp dependent rounding on 64 by 256 matrix:\n",
      "Total time (ms): 3.8001537322998047\n",
      "Time for cpp dependent rounding on 64 by 1024 matrix:\n",
      "Total time (ms): 19.454240798950195\n",
      "Time for cpp dependent rounding on 64 by 4096 matrix:\n",
      "Total time (ms): 121.67048454284668\n",
      "Time for cpp dependent rounding on 256 by 256 matrix:\n",
      "Total time (ms): 11.229515075683594\n",
      "Time for cpp dependent rounding on 256 by 1024 matrix:\n",
      "Total time (ms): 39.65020179748535\n",
      "Time for cpp dependent rounding on 256 by 4096 matrix:\n",
      "Total time (ms): 267.3158645629883\n",
      "Time for cpp dependent rounding on 1024 by 1024 matrix:\n",
      "Total time (ms): 176.04589462280273\n",
      "Time for cpp dependent rounding on 1024 by 4096 matrix:\n",
      "Total time (ms): 688.8852119445801\n",
      "Time for cpp dependent rounding on 4096 by 4096 matrix:\n",
      "Total time (ms): 5659.6925258636475\n"
     ]
    }
   ],
   "source": [
    "for i in range(6, 13, 2):\n",
    "    for j in range(i, 13, 2):\n",
    "        round_given_size('dependent','cpp',i,j)"
   ]
  },
  {
   "cell_type": "markdown",
   "metadata": {},
   "source": [
    "Most of these scale roughly linearly with the number of elements of the matrix (unsurprisingly). Both dependent rounding methods are superlinear, but subquadratic, with respect to number of elements. In this case, C++ both takes less time and scales less."
   ]
  }
 ],
 "metadata": {
  "kernelspec": {
   "display_name": "Python 3",
   "language": "python",
   "name": "python3"
  },
  "language_info": {
   "codemirror_mode": {
    "name": "ipython",
    "version": 3
   },
   "file_extension": ".py",
   "mimetype": "text/x-python",
   "name": "python",
   "nbconvert_exporter": "python",
   "pygments_lexer": "ipython3",
   "version": "3.10.12"
  }
 },
 "nbformat": 4,
 "nbformat_minor": 2
}
