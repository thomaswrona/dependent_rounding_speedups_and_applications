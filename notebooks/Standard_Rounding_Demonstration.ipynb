{
 "cells": [
  {
   "cell_type": "markdown",
   "metadata": {},
   "source": [
    "# Standard Rounding Demonstration\n",
    "\n",
    "There is not much to discuss in this section. This exists mostly to compare to other rounding options. Standard rounding is deterministic and so not unbiased, and has no significant properties other than being fast."
   ]
  },
  {
   "cell_type": "code",
   "execution_count": 1,
   "metadata": {},
   "outputs": [
    {
     "name": "stdout",
     "output_type": "stream",
     "text": [
      "[[0.403 0.292 0.603 ... 0.542 0.84  0.225]\n",
      " [1.357 0.285 0.227 ... 0.22  0.14  0.371]\n",
      " [0.344 0.    0.369 ... 0.101 0.231 0.316]\n",
      " ...\n",
      " [0.232 0.016 0.003 ... 0.238 0.328 0.31 ]\n",
      " [0.754 0.304 0.38  ... 0.01  1.31  0.144]\n",
      " [0.059 0.143 0.759 ... 0.01  0.026 0.271]]\n"
     ]
    }
   ],
   "source": [
    "from dependent_rounding import round_matrix\n",
    "import numpy as np\n",
    "\n",
    "m=4000\n",
    "n=4000\n",
    "np.set_printoptions(precision=3)\n",
    "np.set_printoptions(suppress=True)\n",
    "\n",
    "start = np.abs(np.random.normal(0,0.5,(m,n)))\n",
    "print(start)"
   ]
  },
  {
   "cell_type": "markdown",
   "metadata": {},
   "source": [
    "### Timing Comparison\n"
   ]
  },
  {
   "cell_type": "code",
   "execution_count": 2,
   "metadata": {},
   "outputs": [
    {
     "name": "stdout",
     "output_type": "stream",
     "text": [
      "Total time (ms): 170.4728603363037\n"
     ]
    }
   ],
   "source": [
    "python_result = round_matrix(np.copy(start), 'standard', 0, 'python', track_time=True)"
   ]
  },
  {
   "cell_type": "code",
   "execution_count": 3,
   "metadata": {},
   "outputs": [
    {
     "name": "stdout",
     "output_type": "stream",
     "text": [
      "Total time (ms): 112.49494552612305\n"
     ]
    }
   ],
   "source": [
    "cpp_result = round_matrix(np.copy(start), 'standard', 0, 'cpp', track_time=True)"
   ]
  },
  {
   "cell_type": "code",
   "execution_count": 4,
   "metadata": {},
   "outputs": [
    {
     "data": {
      "text/plain": [
       "0.0"
      ]
     },
     "execution_count": 4,
     "metadata": {},
     "output_type": "execute_result"
    }
   ],
   "source": [
    "np.max(cpp_result - python_result)"
   ]
  }
 ],
 "metadata": {
  "kernelspec": {
   "display_name": "Python 3",
   "language": "python",
   "name": "python3"
  },
  "language_info": {
   "codemirror_mode": {
    "name": "ipython",
    "version": 3
   },
   "file_extension": ".py",
   "mimetype": "text/x-python",
   "name": "python",
   "nbconvert_exporter": "python",
   "pygments_lexer": "ipython3",
   "version": "3.10.12"
  }
 },
 "nbformat": 4,
 "nbformat_minor": 2
}
