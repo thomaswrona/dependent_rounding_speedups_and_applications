{
 "cells": [
  {
   "cell_type": "markdown",
   "metadata": {},
   "source": [
    "# Stochastic Rounding Demonstration\n",
    "\n",
    "Stochastic rounding benefits from good speed but is also unbiased."
   ]
  },
  {
   "cell_type": "code",
   "execution_count": 1,
   "metadata": {},
   "outputs": [
    {
     "name": "stdout",
     "output_type": "stream",
     "text": [
      "[[0.009 0.514 0.233 ... 0.161 0.305 0.39 ]\n",
      " [0.943 0.504 0.357 ... 0.69  1.025 0.125]\n",
      " [1.21  0.044 0.137 ... 0.097 0.108 0.385]\n",
      " ...\n",
      " [0.257 0.225 1.256 ... 0.315 0.4   0.386]\n",
      " [0.18  0.898 0.226 ... 0.766 0.8   0.102]\n",
      " [0.094 0.335 0.103 ... 1.071 0.061 0.135]]\n"
     ]
    }
   ],
   "source": [
    "from dependent_rounding import round_matrix\n",
    "import numpy as np\n",
    "import matplotlib.pyplot as plt\n",
    "\n",
    "m=1000\n",
    "n=1000\n",
    "np.set_printoptions(precision=3)\n",
    "np.set_printoptions(suppress=True)\n",
    "\n",
    "start = np.abs(np.random.normal(0,0.5,(m,n)))\n",
    "print(start)"
   ]
  },
  {
   "cell_type": "markdown",
   "metadata": {},
   "source": [
    "### Timing Comparison"
   ]
  },
  {
   "cell_type": "code",
   "execution_count": 2,
   "metadata": {},
   "outputs": [
    {
     "name": "stdout",
     "output_type": "stream",
     "text": [
      "Total time (ms): 16.54839515686035\n"
     ]
    }
   ],
   "source": [
    "python_result = round_matrix(np.copy(start), 'stochastic', 0, 'python', track_time=True)"
   ]
  },
  {
   "cell_type": "code",
   "execution_count": 3,
   "metadata": {},
   "outputs": [
    {
     "name": "stdout",
     "output_type": "stream",
     "text": [
      "Total time (ms): 10.751008987426758\n"
     ]
    }
   ],
   "source": [
    "cpp_result = round_matrix(np.copy(start), 'stochastic', 0, 'cpp', track_time=True)"
   ]
  },
  {
   "cell_type": "markdown",
   "metadata": {},
   "source": [
    "### Bias\n",
    "\n",
    "Stochastic rounding is unbiased as seen below. Lack of proper randomness can be an issue, which can be seen in the probable odd shape of the results."
   ]
  },
  {
   "cell_type": "code",
   "execution_count": 18,
   "metadata": {},
   "outputs": [
    {
     "name": "stdout",
     "output_type": "stream",
     "text": [
      "0.24153911486734897\n"
     ]
    },
    {
     "data": {
      "image/png": "[encoded data removed]",
      "text/plain": [
       "<Figure size 640x480 with 1 Axes>"
      ]
     },
     "metadata": {},
     "output_type": "display_data"
    }
   ],
   "source": [
    "results = np.zeros_like(cpp_result)\n",
    "for i in range(100):\n",
    "    results += round_matrix(np.copy(start), 'stochastic', 0, 'cpp', seed = 1009*i)\n",
    "\n",
    "print(np.max(np.abs(results / 100.0 - start)))\n",
    "plt.hist((results / 100.0 - start), rwidth=1.0)\n",
    "plt.show()"
   ]
  }
 ],
 "metadata": {
  "kernelspec": {
   "display_name": "Python 3",
   "language": "python",
   "name": "python3"
  },
  "language_info": {
   "codemirror_mode": {
    "name": "ipython",
    "version": 3
   },
   "file_extension": ".py",
   "mimetype": "text/x-python",
   "name": "python",
   "nbconvert_exporter": "python",
   "pygments_lexer": "ipython3",
   "version": "3.10.12"
  }
 },
 "nbformat": 4,
 "nbformat_minor": 2
}
