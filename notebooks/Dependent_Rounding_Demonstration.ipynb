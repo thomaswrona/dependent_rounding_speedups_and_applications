{
 "cells": [
  {
   "cell_type": "markdown",
   "metadata": {},
   "source": [
    "### Dependent Rounding Demonstration\n",
    "\n",
    "This notebook displays some of the basic properties of dependent rounding."
   ]
  },
  {
   "cell_type": "code",
   "execution_count": 1,
   "metadata": {},
   "outputs": [
    {
     "name": "stdout",
     "output_type": "stream",
     "text": [
      "[[0.743 0.625 0.842 ... 0.472 0.403 0.307]\n",
      " [0.302 0.503 0.238 ... 0.539 0.005 0.258]\n",
      " [0.251 0.424 0.136 ... 1.092 0.029 0.999]\n",
      " ...\n",
      " [0.451 0.589 0.426 ... 0.249 0.203 0.279]\n",
      " [0.479 0.234 0.82  ... 0.305 0.054 0.08 ]\n",
      " [0.503 0.066 0.394 ... 0.656 0.591 0.206]]\n"
     ]
    }
   ],
   "source": [
    "from dependent_rounding import round_matrix\n",
    "import numpy as np\n",
    "import matplotlib.pyplot as plt\n",
    "\n",
    "m=1000\n",
    "n=1000\n",
    "np.set_printoptions(precision=3)\n",
    "np.set_printoptions(suppress=True)\n",
    "\n",
    "start = np.abs(np.random.normal(0,0.5,(m,n)))\n",
    "print(start)"
   ]
  },
  {
   "cell_type": "markdown",
   "metadata": {},
   "source": [
    "### Timing Comparison"
   ]
  },
  {
   "cell_type": "code",
   "execution_count": 2,
   "metadata": {},
   "outputs": [
    {
     "name": "stdout",
     "output_type": "stream",
     "text": [
      "Total time (ms): 11794.982194900513\n"
     ]
    }
   ],
   "source": [
    "python_result = round_matrix(np.copy(start), 'dependent', 0, 'python', track_time=True)"
   ]
  },
  {
   "cell_type": "code",
   "execution_count": 3,
   "metadata": {},
   "outputs": [
    {
     "name": "stdout",
     "output_type": "stream",
     "text": [
      "Total time (ms): 309.7362518310547\n"
     ]
    }
   ],
   "source": [
    "cpp_result = round_matrix(np.copy(start), 'dependent', 0, 'cpp', track_time=True)"
   ]
  },
  {
   "cell_type": "code",
   "execution_count": 4,
   "metadata": {},
   "outputs": [
    {
     "name": "stdout",
     "output_type": "stream",
     "text": [
      "Butterfly rounding completed\n",
      "Edges rounded: 997993\n",
      "Time elapsed (ms): 11488.710641860962\n",
      "Avg time per 1000 rounded elements (ms): 11.511814854273489\n",
      "\n",
      "Cycle rounding completed\n",
      "Edges rounded: 8\n",
      "Time elapsed (ms): 79.74529266357422\n",
      "Avg time per 1000 rounded elements (ms): 9968.161582946777\n",
      "\n",
      "Tree rounding completed\n",
      "Edges rounded: 1999\n",
      "Time elapsed (ms): 25.437355041503906\n",
      "Avg time per 1000 rounded elements (ms): 12.72504004077234\n",
      "\n",
      "Total time elapsed (ms): 11598.962545394897\n",
      "Overall avg time per 1000 rounded elements (ms): 11.598962545394897\n"
     ]
    }
   ],
   "source": [
    "python_result = round_matrix(np.copy(start), 'dependent', 0, 'python', log=1)"
   ]
  },
  {
   "cell_type": "code",
   "execution_count": 5,
   "metadata": {},
   "outputs": [
    {
     "name": "stdout",
     "output_type": "stream",
     "text": [
      "Butterfly rounding completed\n",
      "Edges rounded: 997995\n",
      "Time elapsed (ms): 122\n",
      "Avg time per 1000 rounded elements (ms): 0.122245\n",
      "\n",
      "Cycle rounding completed\n",
      "Edges rounded: 6\n",
      "Time elapsed (ms): 8\n",
      "Avg time per 1000 rounded elements (ms): 1333.33\n",
      "\n",
      "Tree rounding completed\n",
      "Edges rounded: 1999\n",
      "Time elapsed (ms): 21\n",
      "Avg time per 1000 rounded elements (ms): 10.5053\n",
      "\n",
      "Total time elapsed (ms): 153\n",
      "Overall avg time per 1000 rounded elements (ms): 0.153\n"
     ]
    }
   ],
   "source": [
    "cpp_result = round_matrix(np.copy(start), 'dependent', 0, 'cpp', log=1)"
   ]
  },
  {
   "cell_type": "markdown",
   "metadata": {},
   "source": [
    "### Bias"
   ]
  },
  {
   "cell_type": "code",
   "execution_count": 6,
   "metadata": {},
   "outputs": [
    {
     "name": "stdout",
     "output_type": "stream",
     "text": [
      "0.2742001794170269\n"
     ]
    },
    {
     "data": {
      "image/png": "[encoded data removed]",
      "text/plain": [
       "<Figure size 640x480 with 1 Axes>"
      ]
     },
     "metadata": {},
     "output_type": "display_data"
    }
   ],
   "source": [
    "results = np.zeros_like(cpp_result)\n",
    "for i in range(100):\n",
    "    results += round_matrix(np.copy(start), 'dependent', 0, 'cpp', seed = 1009*i)\n",
    "\n",
    "print(np.max(np.abs(results / 100.0 - start)))\n",
    "plt.hist((results / 100.0 - start), rwidth=1.0)\n",
    "plt.show()"
   ]
  },
  {
   "cell_type": "markdown",
   "metadata": {},
   "source": [
    "### Degree Preservation\n",
    "\n",
    "Each row and column will add up to within 1 of the original row/column (result will be the integer below/above the original)."
   ]
  },
  {
   "cell_type": "code",
   "execution_count": 11,
   "metadata": {},
   "outputs": [
    {
     "name": "stdout",
     "output_type": "stream",
     "text": [
      "0.9503736412327157\n",
      "0.9724584066937609\n"
     ]
    }
   ],
   "source": [
    "row_diffs = np.sum(start, axis = 1) - np.sum(cpp_result, axis = 1)\n",
    "col_diffs = np.sum(start, axis = 0) - np.sum(cpp_result, axis = 0)\n",
    "print(np.max(np.abs(row_diffs)))\n",
    "print(np.max(np.abs(col_diffs)))"
   ]
  },
  {
   "cell_type": "markdown",
   "metadata": {},
   "source": [
    "### Negative Correlation\n",
    "\n",
    "Negative dependence/correlation in essence means that the probability of a set of events (those events being subset of edges incident to a vertex all being 0 or 1) happening is at or below the product of the individual events."
   ]
  },
  {
   "cell_type": "code",
   "execution_count": 31,
   "metadata": {},
   "outputs": [
    {
     "name": "stdout",
     "output_type": "stream",
     "text": [
      "[0.04400000000000003, 0.12800000000000009]\n",
      "[0.11314895340204116, 0.18350592692475637]\n"
     ]
    }
   ],
   "source": [
    "corr_start = np.abs(np.random.uniform(0,1,(10,10)))\n",
    "attempts = 1000\n",
    "Combined_probabilities = [0.0,0.0]\n",
    "Separate_probailities = [(1-corr_start[0][0])*(1-corr_start[0][1]), corr_start[0][0]*corr_start[0][1]]\n",
    "for i in range(1000):\n",
    "    result = round_matrix(np.copy(corr_start), 'dependent', 0, 'cpp', seed = 1009*i)\n",
    "    if result[0][0] == 0.0 and result[0][1] == 0.0:\n",
    "        Combined_probabilities[0] += 1.0/1000\n",
    "    if result[0][0] == 1.0 and result[0][1] == 1.0:\n",
    "        Combined_probabilities[1] += 1.0/1000\n",
    "\n",
    "#each element of combined is most likely lower than corresponding separate (not guaranteed due to sampling)\n",
    "print(Combined_probabilities)\n",
    "print(Separate_probailities)"
   ]
  }
 ],
 "metadata": {
  "kernelspec": {
   "display_name": "Python 3",
   "language": "python",
   "name": "python3"
  },
  "language_info": {
   "codemirror_mode": {
    "name": "ipython",
    "version": 3
   },
   "file_extension": ".py",
   "mimetype": "text/x-python",
   "name": "python",
   "nbconvert_exporter": "python",
   "pygments_lexer": "ipython3",
   "version": "3.10.12"
  }
 },
 "nbformat": 4,
 "nbformat_minor": 2
}
