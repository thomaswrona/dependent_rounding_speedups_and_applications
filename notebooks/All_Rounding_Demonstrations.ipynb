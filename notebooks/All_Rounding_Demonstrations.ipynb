{
 "cells": [
  {
   "cell_type": "markdown",
   "metadata": {},
   "source": [
    "# Demonstration of all Rounding Methods\n",
    "\n",
    "The three rounding methods are \"standard\", \"stochastic\", and \"dependent\".\n",
    "\n",
    "All rounding methods have a resolution, which can be either an int or \"sign\". \"sign\" means that the program will round all elements to $\\pm 1$, using the specified method. Otherwise, they will be rounded to one of the two nearest factors of $2^{resolution}$.\n",
    "\n",
    "The program can round using \"cpp\" (C++) or \"python\" (C++ will typically be faster except in very simple or small cases).\n",
    "\n",
    "The randomized methods (stochastic and dependent) can be seeded.\n",
    "\n",
    "For dependent rounding, log being set to 0 means no extra information will be printed. Otherwise, timing for each stage of dependent rounding and how fast it was to round per element will be printed.\n",
    "\n",
    "For any method, track_time lets us see the total time to round including any conversions and transformations (there is some redundancy for logging when using dependent rounding, but logging will not include anything involved in transitioning back and forth between Python and C++. Logging and track_time with dependent rounding in C++ at the same time in jupyter will likely cause outputs to be misordered).\n",
    "\n",
    "This file will do simple demonstrations of all 3 rounding methods and both languages used."
   ]
  },
  {
   "cell_type": "code",
   "execution_count": 1,
   "metadata": {},
   "outputs": [
    {
     "name": "stdout",
     "output_type": "stream",
     "text": [
      "[[0.284 1.    0.329 0.198 0.243 0.314 0.067 0.414 0.087 0.913]\n",
      " [0.786 0.326 0.364 0.834 0.122 0.164 0.658 0.147 0.001 0.48 ]\n",
      " [0.229 0.721 0.534 0.07  0.339 0.55  0.019 0.182 0.555 0.111]\n",
      " [0.746 0.691 0.02  0.677 0.476 0.04  0.045 0.066 0.66  0.015]\n",
      " [0.122 0.466 0.254 0.288 0.398 0.327 0.202 0.288 0.248 0.88 ]\n",
      " [0.558 0.485 0.191 1.514 0.225 0.677 0.065 0.362 0.491 0.219]\n",
      " [0.917 0.12  0.052 0.019 0.565 0.119 0.376 0.339 0.107 0.541]\n",
      " [0.646 0.442 0.149 0.584 0.293 1.074 0.107 0.028 0.215 0.117]\n",
      " [1.023 0.056 0.152 0.053 1.576 0.061 0.435 0.173 0.065 0.026]\n",
      " [0.543 0.56  0.539 0.436 0.095 0.868 0.65  0.357 0.378 0.093]]\n"
     ]
    }
   ],
   "source": [
    "from dependent_rounding import round_matrix\n",
    "import numpy as np\n",
    "\n",
    "m=10\n",
    "n=10\n",
    "np.set_printoptions(precision=3)\n",
    "np.set_printoptions(suppress=True)\n",
    "\n",
    "start = np.abs(np.random.normal(0,0.5,(m,n)))\n",
    "print(start)"
   ]
  },
  {
   "cell_type": "markdown",
   "metadata": {},
   "source": [
    "### Python Standard Rounding"
   ]
  },
  {
   "cell_type": "code",
   "execution_count": 2,
   "metadata": {},
   "outputs": [
    {
     "name": "stdout",
     "output_type": "stream",
     "text": [
      "Total time (ms): 0.059604644775390625\n",
      "[[0. 1. 0. 0. 0. 0. 0. 0. 0. 1.]\n",
      " [1. 0. 0. 1. 0. 0. 1. 0. 0. 0.]\n",
      " [0. 1. 1. 0. 0. 1. 0. 0. 1. 0.]\n",
      " [1. 1. 0. 1. 0. 0. 0. 0. 1. 0.]\n",
      " [0. 0. 0. 0. 0. 0. 0. 0. 0. 1.]\n",
      " [1. 0. 0. 2. 0. 1. 0. 0. 0. 0.]\n",
      " [1. 0. 0. 0. 1. 0. 0. 0. 0. 1.]\n",
      " [1. 0. 0. 1. 0. 1. 0. 0. 0. 0.]\n",
      " [1. 0. 0. 0. 2. 0. 0. 0. 0. 0.]\n",
      " [1. 1. 1. 0. 0. 1. 1. 0. 0. 0.]]\n"
     ]
    }
   ],
   "source": [
    "print(round_matrix(np.copy(start), 'standard', 0, 'python', track_time=True))"
   ]
  },
  {
   "cell_type": "markdown",
   "metadata": {},
   "source": [
    "### C++ Standard Rounding"
   ]
  },
  {
   "cell_type": "code",
   "execution_count": 3,
   "metadata": {},
   "outputs": [
    {
     "name": "stdout",
     "output_type": "stream",
     "text": [
      "Total time (ms): 1.9180774688720703\n",
      "[[0. 1. 0. 0. 0. 0. 0. 0. 0. 1.]\n",
      " [1. 0. 0. 1. 0. 0. 1. 0. 0. 0.]\n",
      " [0. 1. 1. 0. 0. 1. 0. 0. 1. 0.]\n",
      " [1. 1. 0. 1. 0. 0. 0. 0. 1. 0.]\n",
      " [0. 0. 0. 0. 0. 0. 0. 0. 0. 1.]\n",
      " [1. 0. 0. 2. 0. 1. 0. 0. 0. 0.]\n",
      " [1. 0. 0. 0. 1. 0. 0. 0. 0. 1.]\n",
      " [1. 0. 0. 1. 0. 1. 0. 0. 0. 0.]\n",
      " [1. 0. 0. 0. 2. 0. 0. 0. 0. 0.]\n",
      " [1. 1. 1. 0. 0. 1. 1. 0. 0. 0.]]\n"
     ]
    }
   ],
   "source": [
    "print(round_matrix(np.copy(start), 'standard', 0, 'cpp', track_time=True))"
   ]
  },
  {
   "cell_type": "markdown",
   "metadata": {},
   "source": [
    "### Python Stochastic Rounding"
   ]
  },
  {
   "cell_type": "code",
   "execution_count": 4,
   "metadata": {},
   "outputs": [
    {
     "name": "stdout",
     "output_type": "stream",
     "text": [
      "Total time (ms): 0.6856918334960938\n",
      "[[1. 2. 1. 1. 1. 1. 1. 1. 0. 0.]\n",
      " [0. 1. 1. 0. 1. 1. 0. 1. 1. 1.]\n",
      " [1. 0. 0. 0. 0. 0. 1. 1. 1. 1.]\n",
      " [0. 0. 1. 0. 0. 0. 1. 1. 0. 1.]\n",
      " [1. 1. 1. 0. 0. 0. 1. 1. 1. 0.]\n",
      " [0. 0. 1. 2. 1. 0. 1. 1. 1. 0.]\n",
      " [0. 1. 1. 1. 0. 1. 0. 0. 1. 1.]\n",
      " [0. 0. 1. 0. 1. 2. 1. 1. 1. 0.]\n",
      " [2. 1. 0. 1. 2. 1. 1. 1. 1. 1.]\n",
      " [0. 0. 1. 1. 1. 0. 0. 0. 0. 1.]]\n"
     ]
    }
   ],
   "source": [
    "print(round_matrix(np.copy(start), 'stochastic', 0, 'python', track_time=True))"
   ]
  },
  {
   "cell_type": "markdown",
   "metadata": {},
   "source": [
    "### C++ Stochastic Rounding"
   ]
  },
  {
   "cell_type": "code",
   "execution_count": 5,
   "metadata": {},
   "outputs": [
    {
     "name": "stdout",
     "output_type": "stream",
     "text": [
      "Total time (ms): 0.4780292510986328\n",
      "[[0. 1. 1. 0. 0. 1. 1. 1. 1. 1.]\n",
      " [0. 0. 0. 1. 0. 0. 0. 0. 0. 1.]\n",
      " [0. 0. 0. 0. 1. 0. 0. 1. 0. 0.]\n",
      " [0. 1. 0. 0. 0. 0. 0. 0. 0. 0.]\n",
      " [1. 1. 0. 1. 0. 0. 0. 0. 0. 1.]\n",
      " [0. 1. 0. 2. 1. 0. 0. 1. 1. 1.]\n",
      " [1. 0. 0. 0. 1. 1. 1. 1. 0. 1.]\n",
      " [0. 0. 0. 1. 0. 1. 0. 0. 0. 0.]\n",
      " [1. 0. 0. 0. 2. 0. 1. 1. 1. 0.]\n",
      " [1. 0. 0. 0. 1. 0. 1. 1. 0. 0.]]\n"
     ]
    }
   ],
   "source": [
    "print(round_matrix(np.copy(start), 'stochastic', 0, 'cpp', track_time=True))"
   ]
  },
  {
   "cell_type": "markdown",
   "metadata": {},
   "source": [
    "### Python Dependent Rounding"
   ]
  },
  {
   "cell_type": "code",
   "execution_count": 9,
   "metadata": {},
   "outputs": [
    {
     "name": "stdout",
     "output_type": "stream",
     "text": [
      "Butterfly rounding completed\n",
      "Edges rounded: 78\n",
      "Time elapsed (ms): 0.34499168395996094\n",
      "Avg time per 1000 rounded elements (ms): 4.4229703071789865\n",
      "Cycle rounding completed\n",
      "Edges rounded: 3\n",
      "Time elapsed (ms): 0.1862049102783203\n",
      "Avg time per 1000 rounded elements (ms): 62.06830342610677\n",
      "Tree rounding completed\n",
      "Edges rounded: 19\n",
      "Time elapsed (ms): 0.11086463928222656\n",
      "Avg time per 1000 rounded elements (ms): 5.83498101485403\n",
      "Total time elapsed (ms): 0.7433891296386719\n",
      "Overall avg time per 1000 rounded elements (ms): 7.433891296386719\n",
      "Total time (ms): 0.8060932159423828\n",
      "[[1. 1. 0. 0. 0. 0. 0. 0. 0. 1.]\n",
      " [1. 0. 1. 1. 0. 0. 0. 0. 0. 1.]\n",
      " [0. 1. 0. 0. 0. 0. 0. 1. 1. 0.]\n",
      " [0. 1. 0. 1. 0. 0. 0. 0. 1. 0.]\n",
      " [0. 1. 0. 0. 1. 1. 0. 0. 0. 1.]\n",
      " [1. 0. 1. 2. 0. 1. 0. 0. 0. 0.]\n",
      " [1. 0. 0. 0. 0. 0. 1. 1. 0. 0.]\n",
      " [0. 1. 0. 1. 0. 1. 0. 1. 0. 0.]\n",
      " [1. 0. 0. 0. 2. 0. 0. 0. 0. 0.]\n",
      " [1. 0. 0. 0. 1. 1. 1. 0. 1. 0.]]\n"
     ]
    }
   ],
   "source": [
    "print(round_matrix(np.copy(start), 'dependent', 0, 'python', log = 1, track_time = True))"
   ]
  },
  {
   "cell_type": "markdown",
   "metadata": {},
   "source": [
    "### C++ Dependent Rounding\n",
    "Expect output to be misordered here: Total time (ms) and the matrix will be the result from track_time and can appear at any time within logging information."
   ]
  },
  {
   "cell_type": "code",
   "execution_count": 10,
   "metadata": {},
   "outputs": [
    {
     "name": "stdout",
     "output_type": "stream",
     "text": [
      "Butterfly rounding completed\n",
      "Edges rounded: 79\n",
      "Time elapsed (ms): 0\n",
      "Avg time per 1000 rounded elements (ms): 0\n",
      "\n",
      "Cycle rounding completed\n",
      "Edges rounded: 2\n",
      "Time elapsed (ms): 1\n",
      "Avg time per 1000 rounded elements (ms): 500\n",
      "\n",
      "Total time (ms): 3.083467483520508\n",
      "[[0. 1. 0. 1. 0. 1. 0. 1. 0. 0.]\n",
      " [1. 0. 1. 0. 0. 0. 1. 0. 0. 1.]\n",
      " [0. 1. 0. 0. 1. 0. 0. 0. 1. 0.]\n",
      " [1. 1. 0. 0. 0. 0. 0. 0. 1. 0.]\n",
      " [0. 0. 1. 0. 0. 1. 1. 0. 0. 1.]\n",
      " [1. 0. 0. 2. 0. 0. 0. 1. 0. 0.]\n",
      " [1. 0. 0. 0. 1. 0. 0. 0. 0. 1.]\n",
      " [0. 1. 0. 1. 0. 1. 0. 0. 0. 0.]\n",
      " [1. 0. 0. 1. 1. 0. 0. 1. 0. 0.]\n",
      " [1. 1. 0. 0. 1. 1. 1. 0. 0. 0.]]\n",
      "Tree rounding completed\n",
      "Edges rounded: 19\n",
      "Time elapsed (ms): 0\n",
      "Avg time per 1000 rounded elements (ms): 0\n",
      "\n",
      "Total time elapsed (ms): 2\n",
      "Overall avg time per 1000 rounded elements (ms): 20\n"
     ]
    }
   ],
   "source": [
    "print(round_matrix(np.copy(start), 'dependent', 0, 'cpp', log = 1, track_time = True))"
   ]
  }
 ],
 "metadata": {
  "kernelspec": {
   "display_name": "Python 3",
   "language": "python",
   "name": "python3"
  },
  "language_info": {
   "codemirror_mode": {
    "name": "ipython",
    "version": 3
   },
   "file_extension": ".py",
   "mimetype": "text/x-python",
   "name": "python",
   "nbconvert_exporter": "python",
   "pygments_lexer": "ipython3",
   "version": "3.10.12"
  }
 },
 "nbformat": 4,
 "nbformat_minor": 2
}
